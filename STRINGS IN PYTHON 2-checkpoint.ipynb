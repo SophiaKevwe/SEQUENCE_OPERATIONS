{
 "cells": [
  {
   "cell_type": "code",
   "execution_count": 2,
   "id": "8be4a630",
   "metadata": {},
   "outputs": [
    {
     "name": "stdout",
     "output_type": "stream",
     "text": [
      "ENTER YOUR PASSWORD: nmjkjD6\n",
      "Enter your password: hjhjjkkj\n",
      "That password is not valid.\n",
      "Enter your password: m,m,m,m\n",
      "That password is not valid.\n",
      "Enter your password: nmnmm,\n",
      "That password is not valid.\n",
      "Enter your password: 7Wfgghhhhhhhhh90\n",
      "That is a valid password.\n"
     ]
    }
   ],
   "source": [
    "def valid_password(password):\n",
    "    correct_length = False\n",
    "    has_uppercase = False\n",
    "    has_lowercase = False\n",
    "    has_digit = False\n",
    "    if len(password)>=7:\n",
    "        correct_length = True\n",
    "    for x in password:\n",
    "        if x.isupper():\n",
    "            has_uppercase = True\n",
    "        if x.islower():\n",
    "            has_lowercase = True   \n",
    "        if x.isdigit():\n",
    "            has_digit = True\n",
    "    if correct_length and has_uppercase and has_lowercase and has_digit == True:\n",
    "        is_valid= True\n",
    "    else:\n",
    "        is_valid= False\n",
    "    return is_valid\n",
    "\n",
    "password=input(\"ENTER YOUR PASSWORD: \")\n",
    "valid_password(password)\n",
    "        \n",
    "def main():\n",
    "    password = input('Enter your password: ')\n",
    "    while not valid_password(password):\n",
    "        print('That password is not valid.')\n",
    "        password = input('Enter your password: ')\n",
    "    print('That is a valid password.')\n",
    "main()\n",
    "\n",
    "    "
   ]
  },
  {
   "cell_type": "code",
   "execution_count": 8,
   "id": "b685a045",
   "metadata": {},
   "outputs": [
    {
     "name": "stdout",
     "output_type": "stream",
     "text": [
      "ENTER YOUR FIRST NAME: SOPHIA\n",
      "ENTER YOUR LAST NAME: UMUKORO\n",
      "Your initials are S.U\n",
      "Your username is sophiaumukoro\n",
      "Your name in the address book is SOPHIA UMUKORO\n",
      "Your reversed name is OROKUMUAIHPOS\n"
     ]
    }
   ],
   "source": [
    "first=input(\"ENTER YOUR FIRST NAME: \")\n",
    "second=input(\"ENTER YOUR LAST NAME: \")\n",
    "fullname=first+second\n",
    "print(\"Your initials are\",first[0]+\".\"+second[0])\n",
    "print(\"Your username is\",fullname.lower())\n",
    "print(\"Your name in the address book is\",first,second)\n",
    "print(\"Your reversed name is\",fullname[::-1])"
   ]
  },
  {
   "cell_type": "code",
   "execution_count": 17,
   "id": "e2244e06",
   "metadata": {},
   "outputs": [
    {
     "name": "stdout",
     "output_type": "stream",
     "text": [
      "['Beginner', 'Average', 'Expert', 'Advanced']\n"
     ]
    }
   ],
   "source": [
    "levels=\"Beginner,Average,Expert,Advanced\"\n",
    "listt=[0,0,0,0]\n",
    "listt[0]=levels[0:8]\n",
    "listt[1]=levels[9:16]\n",
    "listt[2]=levels[17:23]\n",
    "listt[3]=levels[24:]s\n",
    "print(listt)"
   ]
  },
  {
   "cell_type": "code",
   "execution_count": null,
   "id": "5cf9cd87",
   "metadata": {},
   "outputs": [],
   "source": []
  }
 ],
 "metadata": {
  "kernelspec": {
   "display_name": "Python 3",
   "language": "python",
   "name": "python3"
  },
  "language_info": {
   "codemirror_mode": {
    "name": "ipython",
    "version": 3
   },
   "file_extension": ".py",
   "mimetype": "text/x-python",
   "name": "python",
   "nbconvert_exporter": "python",
   "pygments_lexer": "ipython3",
   "version": "3.8.8"
  }
 },
 "nbformat": 4,
 "nbformat_minor": 5
}
