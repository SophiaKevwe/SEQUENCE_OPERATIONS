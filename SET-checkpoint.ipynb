{
 "cells": [
  {
   "cell_type": "code",
   "execution_count": 5,
   "id": "ccb1c95f",
   "metadata": {},
   "outputs": [
    {
     "name": "stdout",
     "output_type": "stream",
     "text": [
      "{1, 2}\n"
     ]
    }
   ],
   "source": [
    "myset = set([])\n",
    "myset.add(2)\n",
    "myset.add(1)\n",
    "print(myset)"
   ]
  },
  {
   "cell_type": "code",
   "execution_count": 16,
   "id": "bb2116f9",
   "metadata": {},
   "outputs": [
    {
     "name": "stdout",
     "output_type": "stream",
     "text": [
      "no\n",
      "{1, 2, 8}\n"
     ]
    }
   ],
   "source": [
    "set1 = set([1, 2, 3, 4, 5]) \n",
    "set2 = set([3, 4, 5,8]) \n",
    "if set2 <= set1:\n",
    "    print(\"YES\")\n",
    "else:\n",
    "    print(\"no\")\n",
    "set3 =set1.symmetric_difference(set2)\n",
    "print(set3)"
   ]
  },
  {
   "cell_type": "code",
   "execution_count": null,
   "id": "db241d21",
   "metadata": {},
   "outputs": [],
   "source": []
  }
 ],
 "metadata": {
  "kernelspec": {
   "display_name": "Python 3",
   "language": "python",
   "name": "python3"
  },
  "language_info": {
   "codemirror_mode": {
    "name": "ipython",
    "version": 3
   },
   "file_extension": ".py",
   "mimetype": "text/x-python",
   "name": "python",
   "nbconvert_exporter": "python",
   "pygments_lexer": "ipython3",
   "version": "3.8.8"
  }
 },
 "nbformat": 4,
 "nbformat_minor": 5
}
