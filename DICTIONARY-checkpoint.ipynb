{
 "cells": [
  {
   "cell_type": "code",
   "execution_count": 11,
   "id": "1270c43f",
   "metadata": {},
   "outputs": [
    {
     "data": {
      "text/plain": [
       "{'james': 777, 'sesu': 888, 'jeff': 999, 'wade': '293999'}"
      ]
     },
     "execution_count": 11,
     "metadata": {},
     "output_type": "execute_result"
    }
   ],
   "source": [
    "myphonebook={\"chris\":666, \"james\": 777,\"sesu\":888,\"jeff\":999}\n",
    "myphonebook[\"wade\"]=\"293999\"\n",
    "del myphonebook[\"chris\"]\n",
    "myphonebook\n",
    "\n"
   ]
  },
  {
   "cell_type": "code",
   "execution_count": 15,
   "id": "89f995af",
   "metadata": {},
   "outputs": [
    {
     "name": "stdout",
     "output_type": "stream",
     "text": [
      "ENTER A KEY: chris\n",
      "The value of the key is  666\n",
      "do you want to delete the value of the key: yes\n",
      "{'james': 777, 'sesu': 888, 'jeff': 999}\n"
     ]
    }
   ],
   "source": [
    "myphonebook={\"chris\":666, \"james\": 777,\"sesu\":888,\"jeff\":999}\n",
    "key=input(\"ENTER A KEY: \")\n",
    "if key in myphonebook:\n",
    "    print(\"The value of the key is \",myphonebook[key])\n",
    "    ans=input(\"do you want to delete the value of the key: \")\n",
    "    if ans == \"yes\":\n",
    "        del myphonebook[key]\n",
    "        print(myphonebook)\n",
    "    else:\n",
    "        print(myphonebook)\n",
    "else:\n",
    "    print(\"invalid key\")\n",
    "    \n",
    "    "
   ]
  },
  {
   "cell_type": "code",
   "execution_count": 24,
   "id": "25b6e12b",
   "metadata": {},
   "outputs": [
    {
     "name": "stdout",
     "output_type": "stream",
     "text": [
      "Enter a score for each item: 45\n",
      "Enter a score for each item: 45\n",
      "Enter a score for each item: 45\n",
      "Enter a score for each item: 45\n",
      "Enter a score for each item: 45\n",
      "Enter a score for each item: 45\n",
      "Enter a score for each item: 45\n",
      "Enter a score for each item: 45\n",
      "Enter a score for each item: 45\n",
      "Enter a score for each item: 45\n",
      "Enter a score for each item: 45\n",
      "Enter a score for each item: 4\n",
      "Enter a score for each item: 5\n",
      "Enter a score for each item: 45\n",
      "Enter a score for each item: 4\n",
      "{'Segun': ['45', '45', '45'], 'Bisi': ['45', '45', '45'], 'Ade': ['45', '45', '45'], 'David': ['45', '45', '4'], 'Saul': ['5', '45', '4']}\n"
     ]
    }
   ],
   "source": [
    "slist=[\"Segun\",\"Bisi\",\"Ade\",\"David\",\"Saul\"]\n",
    "scorelist={}\n",
    "for item in slist:\n",
    "    rlist=[]\n",
    "    for i in range(3):\n",
    "        a=(input(\"Enter a score for each item: \"))\n",
    "        rlist.append(a)\n",
    "    scorelist[item]=rlist\n",
    "    \n",
    "print(scorelist)"
   ]
  },
  {
   "cell_type": "code",
   "execution_count": null,
   "id": "f6b7856a",
   "metadata": {},
   "outputs": [],
   "source": [
    "scorelist={'Segun': ['45', '45', '45'], 'Bisi': ['45', '45', '45'], 'Ade': ['45', '45', '45'], 'David': ['45', '45', '4'], 'Saul': ['5', '45', '4']}\n"
   ]
  },
  {
   "cell_type": "code",
   "execution_count": 7,
   "id": "752f41f4",
   "metadata": {},
   "outputs": [
    {
     "name": "stdout",
     "output_type": "stream",
     "text": [
      "{}\n"
     ]
    }
   ],
   "source": [
    "myphonebook={\"chris\":666, \"james\": 777,\"sesu\":888,\"jeff\":999}\n",
    "myphonebook.clear()\n",
    "print(myphonebook)"
   ]
  },
  {
   "cell_type": "code",
   "execution_count": 1,
   "id": "649f585e",
   "metadata": {},
   "outputs": [
    {
     "name": "stdout",
     "output_type": "stream",
     "text": [
      "{'CST': 1, 'CLDS': 2, 'CMSS': 3, 'COE': 4}\n"
     ]
    }
   ],
   "source": [
    "colleges={}\n",
    "colleges[\"CST\"]=1\n",
    "colleges[\"CLDS\"]=2\n",
    "colleges[\"CMSS\"]=3\n",
    "colleges[\"COE\"]=4\n",
    "print(colleges)"
   ]
  },
  {
   "cell_type": "code",
   "execution_count": null,
   "id": "899c837d",
   "metadata": {},
   "outputs": [],
   "source": []
  }
 ],
 "metadata": {
  "kernelspec": {
   "display_name": "Python 3",
   "language": "python",
   "name": "python3"
  },
  "language_info": {
   "codemirror_mode": {
    "name": "ipython",
    "version": 3
   },
   "file_extension": ".py",
   "mimetype": "text/x-python",
   "name": "python",
   "nbconvert_exporter": "python",
   "pygments_lexer": "ipython3",
   "version": "3.8.8"
  }
 },
 "nbformat": 4,
 "nbformat_minor": 5
}
