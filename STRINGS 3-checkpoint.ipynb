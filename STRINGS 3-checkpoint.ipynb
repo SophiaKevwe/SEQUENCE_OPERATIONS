{
 "cells": [
  {
   "cell_type": "code",
   "execution_count": 12,
   "id": "f104aa76",
   "metadata": {},
   "outputs": [
    {
     "name": "stdout",
     "output_type": "stream",
     "text": [
      "Enter your name : SOPHIA\n",
      "sophia\n"
     ]
    }
   ],
   "source": [
    "word=input(\"Enter your name : \")\n",
    "if word.isupper():\n",
    "    print(word.lower())\n",
    "    print(\"CONVERTED TO LOWER CASE\")\n",
    "elif word.islower():\n",
    "    print(word.upper())\n",
    "    print(\"CONVERTED TO UPPER CASE\")\n",
    "else:\n",
    "    print(word)\n",
    "    "
   ]
  },
  {
   "cell_type": "code",
   "execution_count": 19,
   "id": "16f14303",
   "metadata": {
    "scrolled": true
   },
   "outputs": [
    {
     "name": "stdout",
     "output_type": "stream",
     "text": [
      "Enter your name : SOPHIA\n",
      "Do you want to change it to upper case or lower: LOWER\n",
      "sophia\n",
      "CONVERTED TO LOWER CASE\n"
     ]
    }
   ],
   "source": [
    "word=input(\"Enter your name : \")\n",
    "ans=input(\"Do you want to change it to upper case or lower: \")\n",
    "ans=ans.lower()\n",
    "if ans == \"lower\":\n",
    "    print(word.lower())\n",
    "    print(\"CONVERTED TO LOWER CASE\")\n",
    "elif ans == \"upper\":\n",
    "    print(word.upper())\n",
    "    print(\"CONVERTED TO UPPER CASE\")\n",
    "else:\n",
    "    print(\"Your name is \", word)"
   ]
  },
  {
   "cell_type": "code",
   "execution_count": 20,
   "id": "1e691990",
   "metadata": {
    "scrolled": true
   },
   "outputs": [
    {
     "name": "stdout",
     "output_type": "stream",
     "text": [
      "8\n",
      "4\n"
     ]
    }
   ],
   "source": [
    "mystring=\"    love\"\n",
    "newmystring=\"    \"\n",
    "print(len(mystring))\n",
    "print(len(newmystring))\n"
   ]
  },
  {
   "cell_type": "code",
   "execution_count": 49,
   "id": "cdcba3c5",
   "metadata": {},
   "outputs": [
    {
     "name": "stdout",
     "output_type": "stream",
     "text": [
      "['father', 'frank', 'fried', 'five', 'fresh', 'fishes', 'for', 'five', 'friends', 'from', 'finland']\n",
      "father frank fried five fresh fishes for five friends from finland \n"
     ]
    }
   ],
   "source": [
    "wordd=\"father frank fried five fresh fishes for five friends from finland\"\n",
    "mylist=wordd.split()\n",
    "newlist=\"\"\n",
    "print(mylist)\n",
    "for item in mylist:\n",
    "    item.replace(\"f\",\"F\")\n",
    "    newlist += item+\" \"\n",
    "print(newlist)"
   ]
  },
  {
   "cell_type": "code",
   "execution_count": 30,
   "id": "5afcc853",
   "metadata": {},
   "outputs": [
    {
     "name": "stdout",
     "output_type": "stream",
     "text": [
      "['All', 'rights', 'reserved.', 'No', 'part', 'of', 'this', 'publication', 'may', 'be', 'reproduced,', 'stored', 'in', 'a', 'retrieval', 'system,', 'or', 'transmitted', 'in', 'any', 'form', 'or', 'by', 'any', 'means,', 'electronic,', 'mechanical,', 'photocopying,', 'recording', 'or', 'otherwise,', 'without', 'either', 'the', 'prior', 'written', 'permission', 'of', 'the', 'publisher', 'or', 'a', 'license', 'permitting', 'restricted', 'copying', 'in', 'the', 'United', 'Kingdom', 'issued', 'by', 'the', 'Copyright', 'Licensing', 'Agency', 'Ltd,', 'Saffron', 'House,', '6–10', 'Kirby', 'Street,', 'London', 'EC1N', '8TS.', 'All', 'trademarks', 'used', 'herein', 'are', 'the', 'property', 'of', 'their', 'respective', 'owners.', 'The', 'use', 'of', 'any', 'trademark', 'in', 'this', 'text', 'does', 'not', 'vest', 'in', 'the', 'author', 'or', 'publisher', 'any', 'trademark', 'ownership', 'rights', 'in', 'such', 'trademarks,', 'nor', 'does', 'the', 'use', 'of', 'such', 'trademarks', 'imply', 'any', 'affiliation', 'with', 'or', 'endorsement', 'of', 'this', 'book', 'by', 'such', 'owners']\n"
     ]
    }
   ],
   "source": [
    "text=\"All rights reserved. No part of this publication may be reproduced, stored in a retrieval system, or transmitted in any form or by any means, electronic, mechanical, photocopying, recording or otherwise, without either the prior written permission of the publisher or a license permitting restricted copying in the United Kingdom issued by the Copyright Licensing Agency Ltd, Saffron House, 6–10 Kirby Street, London EC1N 8TS. All trademarks used herein are the property of their respective owners. The use of any trademark in this text does not vest in the author or publisher any trademark ownership rights in such trademarks, nor does the use of such trademarks imply any affiliation with or endorsement of this book by such owners\"\n",
    "mulist=text.split()\n",
    "print(mulist)"
   ]
  },
  {
   "cell_type": "code",
   "execution_count": null,
   "id": "210939bd",
   "metadata": {},
   "outputs": [],
   "source": []
  }
 ],
 "metadata": {
  "kernelspec": {
   "display_name": "Python 3",
   "language": "python",
   "name": "python3"
  },
  "language_info": {
   "codemirror_mode": {
    "name": "ipython",
    "version": 3
   },
   "file_extension": ".py",
   "mimetype": "text/x-python",
   "name": "python",
   "nbconvert_exporter": "python",
   "pygments_lexer": "ipython3",
   "version": "3.8.8"
  }
 },
 "nbformat": 4,
 "nbformat_minor": 5
}
